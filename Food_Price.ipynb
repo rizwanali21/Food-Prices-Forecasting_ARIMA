{
 "cells": [
  {
   "cell_type": "markdown",
   "id": "9055f71c",
   "metadata": {},
   "source": [
    "# Libraries to Import"
   ]
  },
  {
   "cell_type": "code",
   "execution_count": 2,
   "id": "24e177dd",
   "metadata": {},
   "outputs": [],
   "source": [
    "from pandas import read_csv\n",
    "from pandas import datetime\n",
    "from matplotlib import pyplot\n",
    "from pandas.plotting import autocorrelation_plot\n",
    "from statsmodels.tsa.arima.model import ARIMA\n",
    "from sklearn.metrics import mean_squared_error\n",
    "from math import sqrt\n",
    "import seaborn as sns\n",
    "import pandas as pd"
   ]
  },
  {
   "cell_type": "markdown",
   "id": "5f264fd0",
   "metadata": {},
   "source": [
    "# Reading Dataset"
   ]
  },
  {
   "cell_type": "code",
   "execution_count": 3,
   "id": "944df65e",
   "metadata": {},
   "outputs": [],
   "source": [
    "series = read_csv('CPI_Urban_US_City_avg.csv', header=0, parse_dates=[0], index_col=0, squeeze=True)"
   ]
  },
  {
   "cell_type": "markdown",
   "id": "7c840da7",
   "metadata": {},
   "source": [
    "# Plotting Series"
   ]
  },
  {
   "cell_type": "code",
   "execution_count": 4,
   "id": "0743ba95",
   "metadata": {},
   "outputs": [
    {
     "name": "stdout",
     "output_type": "stream",
     "text": [
      "DATE\n",
      "1952-01-01    31.2\n",
      "1952-02-01    30.7\n",
      "1952-03-01    30.7\n",
      "1952-04-01    30.8\n",
      "1952-05-01    30.8\n",
      "Name: CPI, dtype: float64\n"
     ]
    },
    {
     "data": {
      "image/png": "[encoded data removed]",
      "text/plain": [
       "<Figure size 432x288 with 1 Axes>"
      ]
     },
     "metadata": {
      "needs_background": "light"
     },
     "output_type": "display_data"
    }
   ],
   "source": [
    "print(series.head())\n",
    "series.plot()\n",
    "pyplot.show()"
   ]
  },
  {
   "cell_type": "code",
   "execution_count": 5,
   "id": "647f88cb",
   "metadata": {},
   "outputs": [
    {
     "data": {
      "image/png": "[encoded data removed]",
      "text/plain": [
       "<Figure size 432x288 with 1 Axes>"
      ]
     },
     "metadata": {
      "needs_background": "light"
     },
     "output_type": "display_data"
    }
   ],
   "source": [
    "autocorrelation_plot(series)\n",
    "pyplot.show()"
   ]
  },
  {
   "cell_type": "markdown",
   "id": "bcfbae60",
   "metadata": {},
   "source": [
    "# Splitting into Train and Test"
   ]
  },
  {
   "cell_type": "code",
   "execution_count": 6,
   "id": "1e75c525",
   "metadata": {},
   "outputs": [],
   "source": [
    "series.index = series.index.to_period('M')\n",
    "X = series.values\n",
    "size = int(len(X) * 0.66)\n",
    "train, test = X[0:size], X[size:len(X)]\n",
    "history = [x for x in train]\n",
    "predictions = list()"
   ]
  },
  {
   "cell_type": "markdown",
   "id": "0c9f168d",
   "metadata": {},
   "source": [
    "# Model Fitting and Training"
   ]
  },
  {
   "cell_type": "code",
   "execution_count": 7,
   "id": "de08b7f4",
   "metadata": {},
   "outputs": [
    {
     "name": "stdout",
     "output_type": "stream",
     "text": [
      "predicted=161.078651, expected=161.400000\n",
      "predicted=161.600544, expected=161.200000\n",
      "predicted=161.277340, expected=162.500000\n",
      "predicted=162.895553, expected=162.700000\n",
      "predicted=162.938082, expected=162.800000\n",
      "predicted=163.032899, expected=163.400000\n",
      "predicted=163.664769, expected=163.800000\n",
      "predicted=164.185951, expected=163.400000\n",
      "predicted=163.412790, expected=163.600000\n",
      "predicted=163.730553, expected=164.000000\n",
      "predicted=164.206752, expected=163.900000\n",
      "predicted=163.948832, expected=163.900000\n",
      "predicted=163.892646, expected=164.100000\n",
      "predicted=164.206692, expected=164.700000\n",
      "predicted=164.937074, expected=165.100000\n",
      "predicted=165.264415, expected=165.400000\n",
      "predicted=165.594477, expected=165.500000\n",
      "predicted=165.668653, expected=165.300000\n",
      "predicted=165.399159, expected=166.100000\n",
      "predicted=166.408924, expected=166.400000\n",
      "predicted=166.573546, expected=166.600000\n",
      "predicted=166.762749, expected=167.400000\n",
      "predicted=167.707569, expected=167.500000\n",
      "predicted=167.749438, expected=168.500000\n",
      "predicted=168.939888, expected=169.000000\n",
      "predicted=169.317749, expected=169.100000\n",
      "predicted=169.405636, expected=169.000000\n",
      "predicted=169.121937, expected=169.200000\n",
      "predicted=169.449333, expected=170.200000\n",
      "predicted=170.574718, expected=170.400000\n",
      "predicted=170.557347, expected=171.600000\n",
      "predicted=172.061755, expected=172.100000\n",
      "predicted=172.462500, expected=172.500000\n",
      "predicted=172.951637, expected=172.800000\n",
      "predicted=173.089988, expected=173.500000\n",
      "predicted=173.987848, expected=174.000000\n",
      "predicted=174.337096, expected=174.400000\n",
      "predicted=174.712276, expected=174.400000\n",
      "predicted=174.584838, expected=175.100000\n",
      "predicted=175.487139, expected=175.100000\n",
      "predicted=175.264983, expected=174.700000\n",
      "predicted=174.722340, expected=175.400000\n",
      "predicted=175.618318, expected=175.700000\n",
      "predicted=175.900664, expected=176.200000\n",
      "predicted=176.409017, expected=176.700000\n",
      "predicted=176.904315, expected=175.500000\n",
      "predicted=175.394427, expected=175.200000\n",
      "predicted=175.164013, expected=175.300000\n",
      "predicted=175.287512, expected=175.100000\n",
      "predicted=175.017262, expected=175.400000\n",
      "predicted=175.264763, expected=175.000000\n",
      "predicted=174.845142, expected=175.700000\n",
      "predicted=175.897995, expected=175.900000\n",
      "predicted=175.952080, expected=176.000000\n",
      "predicted=176.143569, expected=177.200000\n",
      "predicted=177.536266, expected=177.500000\n",
      "predicted=177.816435, expected=177.600000\n",
      "predicted=177.830400, expected=177.900000\n",
      "predicted=178.113267, expected=179.200000\n",
      "predicted=179.808803, expected=179.000000\n",
      "predicted=179.135919, expected=180.000000\n",
      "predicted=180.438797, expected=180.500000\n",
      "predicted=180.831100, expected=181.400000\n",
      "predicted=181.987731, expected=182.700000\n",
      "predicted=183.223611, expected=183.900000\n",
      "predicted=184.645459, expected=183.300000\n",
      "predicted=183.535831, expected=183.700000\n",
      "predicted=184.133831, expected=184.100000\n",
      "predicted=184.461070, expected=184.300000\n",
      "predicted=184.573456, expected=186.600000\n",
      "predicted=187.197416, expected=187.000000\n",
      "predicted=187.422850, expected=187.200000\n",
      "predicted=187.652667, expected=187.000000\n",
      "predicted=187.182265, expected=186.400000\n",
      "predicted=186.668695, expected=187.700000\n",
      "predicted=188.053371, expected=188.600000\n",
      "predicted=188.903413, expected=188.400000\n",
      "predicted=188.499960, expected=188.100000\n",
      "predicted=188.057041, expected=187.700000\n",
      "predicted=187.845672, expected=188.100000\n",
      "predicted=188.312884, expected=190.000000\n",
      "predicted=190.444628, expected=190.200000\n",
      "predicted=190.342045, expected=189.600000\n",
      "predicted=189.589955, expected=190.000000\n",
      "predicted=190.270027, expected=189.800000\n",
      "predicted=190.110673, expected=190.200000\n",
      "predicted=190.358418, expected=190.600000\n",
      "predicted=190.595658, expected=191.400000\n",
      "predicted=191.759880, expected=191.700000\n",
      "predicted=191.850136, expected=192.500000\n",
      "predicted=192.925321, expected=192.200000\n",
      "predicted=192.323021, expected=192.300000\n",
      "predicted=192.574040, expected=191.800000\n",
      "predicted=191.738234, expected=191.800000\n",
      "predicted=191.925086, expected=192.400000\n",
      "predicted=192.448923, expected=192.800000\n",
      "predicted=192.945272, expected=193.400000\n",
      "predicted=193.549471, expected=194.300000\n",
      "predicted=194.653689, expected=194.800000\n",
      "predicted=195.200626, expected=194.600000\n",
      "predicted=194.781534, expected=194.400000\n",
      "predicted=194.542908, expected=195.918000\n",
      "predicted=196.499995, expected=197.735000\n",
      "predicted=198.404358, expected=198.816000\n",
      "predicted=199.335692, expected=199.250000\n",
      "predicted=199.652686, expected=200.237000\n",
      "predicted=201.063557, expected=201.151000\n",
      "predicted=201.946078, expected=201.596000\n",
      "predicted=202.123924, expected=202.338000\n",
      "predicted=202.812346, expected=203.300000\n",
      "predicted=203.915403, expected=204.081000\n",
      "predicted=204.651961, expected=205.119000\n",
      "predicted=205.699069, expected=205.503000\n",
      "predicted=205.963844, expected=207.100000\n",
      "predicted=207.934850, expected=207.854000\n",
      "predicted=208.433151, expected=208.093000\n",
      "predicted=208.621251, expected=210.897000\n",
      "predicted=211.949514, expected=211.800000\n",
      "predicted=212.643948, expected=213.331000\n",
      "predicted=214.346941, expected=216.028000\n",
      "predicted=217.190660, expected=217.449000\n",
      "predicted=218.926492, expected=218.757000\n",
      "predicted=219.888508, expected=219.532000\n",
      "predicted=220.491238, expected=219.662000\n",
      "predicted=220.568675, expected=219.163000\n",
      "predicted=219.456479, expected=218.953000\n",
      "predicted=219.152865, expected=217.930000\n",
      "predicted=217.689191, expected=216.949000\n",
      "predicted=216.559211, expected=215.807000\n",
      "predicted=215.142705, expected=215.064000\n",
      "predicted=214.548038, expected=214.953000\n",
      "predicted=214.492666, expected=214.047000\n",
      "predicted=213.450421, expected=213.769000\n",
      "predicted=213.371466, expected=213.299000\n",
      "predicted=212.867708, expected=213.472000\n",
      "predicted=213.406814, expected=213.383000\n",
      "predicted=213.132591, expected=213.839000\n",
      "predicted=213.931733, expected=214.738000\n",
      "predicted=214.955806, expected=214.728000\n",
      "predicted=214.889398, expected=215.550000\n",
      "predicted=215.916288, expected=215.721000\n",
      "predicted=215.940295, expected=215.717000\n",
      "predicted=216.006482, expected=215.476000\n",
      "predicted=215.441515, expected=215.451000\n",
      "predicted=215.572557, expected=215.361000\n",
      "predicted=215.328743, expected=216.166000\n",
      "predicted=216.392523, expected=216.534000\n",
      "predicted=216.657372, expected=217.105000\n",
      "predicted=217.412411, expected=217.419000\n",
      "predicted=217.613748, expected=219.251000\n",
      "predicted=220.059985, expected=220.732000\n",
      "predicted=221.470566, expected=223.193000\n",
      "predicted=224.462419, expected=224.098000\n",
      "predicted=224.920735, expected=225.295000\n",
      "predicted=226.433468, expected=225.857000\n",
      "predicted=226.591022, expected=227.178000\n",
      "predicted=228.240159, expected=228.492000\n",
      "predicted=229.305277, expected=229.927000\n",
      "predicted=230.902826, expected=229.992000\n",
      "predicted=230.466669, expected=229.947000\n",
      "predicted=230.380734, expected=230.424000\n",
      "predicted=230.852536, expected=230.948000\n",
      "predicted=231.401717, expected=230.612000\n",
      "predicted=230.626723, expected=231.051000\n",
      "predicted=231.226322, expected=231.397000\n",
      "predicted=231.608212, expected=231.320000\n",
      "predicted=231.457501, expected=231.713000\n",
      "predicted=231.830268, expected=231.658000\n",
      "predicted=231.757733, expected=231.853000\n",
      "predicted=232.009571, expected=231.789000\n",
      "predicted=231.785176, expected=232.398000\n",
      "predicted=232.664690, expected=232.883000\n",
      "predicted=233.086650, expected=233.374000\n",
      "predicted=233.678813, expected=233.696000\n",
      "predicted=233.918640, expected=233.526000\n",
      "predicted=233.685146, expected=233.580000\n",
      "predicted=233.716636, expected=233.776000\n",
      "predicted=233.915496, expected=233.184000\n",
      "predicted=233.074326, expected=233.809000\n",
      "predicted=233.935754, expected=233.893000\n",
      "predicted=233.929002, expected=234.073000\n",
      "predicted=234.222614, expected=234.040000\n",
      "predicted=233.985333, expected=234.219000\n",
      "predicted=234.397525, expected=234.144000\n",
      "predicted=234.157073, expected=234.318000\n",
      "predicted=234.412581, expected=234.722000\n",
      "predicted=234.856690, expected=235.781000\n",
      "predicted=236.196363, expected=237.055000\n",
      "predicted=237.607303, expected=237.942000\n",
      "predicted=238.526093, expected=239.611000\n",
      "predicted=240.493600, expected=239.682000\n",
      "predicted=240.214430, expected=240.154000\n",
      "predicted=240.744291, expected=240.692000\n",
      "predicted=241.122945, expected=241.328000\n",
      "predicted=241.913948, expected=241.620000\n",
      "predicted=241.874817, expected=241.912000\n",
      "predicted=242.206105, expected=242.893000\n"
     ]
    },
    {
     "name": "stdout",
     "output_type": "stream",
     "text": [
      "predicted=243.375334, expected=242.553000\n",
      "predicted=242.707069, expected=242.598000\n",
      "predicted=242.748395, expected=241.633000\n",
      "predicted=241.386142, expected=241.106000\n",
      "predicted=240.978556, expected=241.107000\n",
      "predicted=240.882907, expected=241.922000\n",
      "predicted=242.087351, expected=242.250000\n",
      "predicted=242.272923, expected=242.864000\n",
      "predicted=243.101803, expected=243.198000\n",
      "predicted=243.440459, expected=243.284000\n",
      "predicted=243.556426, expected=242.606000\n",
      "predicted=242.512262, expected=241.880000\n",
      "predicted=241.685644, expected=241.558000\n",
      "predicted=241.351579, expected=241.741000\n",
      "predicted=241.673502, expected=240.414000\n",
      "predicted=239.853733, expected=240.341000\n",
      "predicted=240.059489, expected=239.348000\n",
      "predicted=238.847424, expected=238.763000\n",
      "predicted=238.429081, expected=238.380000\n",
      "predicted=237.878425, expected=238.133000\n",
      "predicted=237.897026, expected=237.880000\n",
      "predicted=237.558604, expected=237.714000\n",
      "predicted=237.502641, expected=237.438000\n",
      "predicted=237.238077, expected=237.147000\n",
      "predicted=236.958144, expected=237.072000\n",
      "predicted=236.938913, expected=237.824000\n",
      "predicted=237.981538, expected=238.387000\n",
      "predicted=238.594834, expected=238.568000\n",
      "predicted=238.727085, expected=238.893000\n",
      "predicted=239.094104, expected=238.494000\n",
      "predicted=238.561973, expected=238.904000\n",
      "predicted=239.107529, expected=238.804000\n",
      "predicted=238.821553, expected=238.852000\n",
      "predicted=238.931350, expected=239.020000\n",
      "predicted=239.022655, expected=238.940000\n",
      "predicted=238.999293, expected=239.371000\n",
      "predicted=239.498589, expected=239.641000\n",
      "predicted=239.783416, expected=239.160000\n",
      "predicted=239.113072, expected=239.230000\n",
      "predicted=239.223855, expected=239.798000\n",
      "predicted=240.005479, expected=239.148000\n",
      "predicted=239.048793, expected=239.239000\n",
      "predicted=239.180177, expected=239.693000\n",
      "predicted=239.800591, expected=239.941000\n",
      "predicted=240.143143, expected=239.935000\n",
      "predicted=239.921518, expected=239.404000\n",
      "predicted=239.297920, expected=239.990000\n",
      "predicted=240.181615, expected=240.786000\n",
      "predicted=241.077508, expected=241.320000\n",
      "predicted=241.622023, expected=242.077000\n",
      "predicted=242.404722, expected=242.603000\n",
      "predicted=243.033221, expected=241.484000\n",
      "predicted=241.421899, expected=241.969000\n",
      "predicted=242.150135, expected=241.371000\n",
      "predicted=241.255983, expected=241.134000\n",
      "predicted=241.084541, expected=241.014000\n",
      "predicted=240.730909, expected=241.435000\n",
      "predicted=241.569724, expected=241.892000\n",
      "predicted=241.974712, expected=242.474000\n",
      "predicted=242.716632, expected=242.527000\n",
      "predicted=242.663553, expected=243.179000\n",
      "predicted=243.524487, expected=244.115000\n",
      "predicted=244.574910, expected=245.207000\n",
      "predicted=245.817428, expected=251.290000\n",
      "predicted=253.537243, expected=253.635000\n",
      "predicted=255.472123, expected=254.850000\n",
      "predicted=256.414780, expected=252.215000\n",
      "predicted=251.977052, expected=252.148000\n",
      "predicted=252.944601, expected=251.303000\n",
      "predicted=251.313989, expected=251.478000\n",
      "predicted=251.446531, expected=251.241000\n",
      "predicted=250.831861, expected=252.009000\n",
      "predicted=252.179401, expected=252.270000\n",
      "predicted=252.378914, expected=252.828000\n",
      "predicted=253.072213, expected=253.313000\n",
      "predicted=253.577671, expected=254.314000\n",
      "predicted=254.833680, expected=255.314000\n",
      "predicted=255.870588, expected=257.176000\n",
      "predicted=258.067860, expected=258.599000\n",
      "predicted=259.499316, expected=259.544000\n",
      "predicted=260.284901, expected=262.631000\n",
      "predicted=264.094356, expected=264.983000\n",
      "predicted=266.611511, expected=267.303000\n",
      "predicted=268.793536, expected=268.356000\n",
      "predicted=269.442362, expected=270.996000\n",
      "predicted=272.667152, expected=274.747000\n",
      "predicted=277.018698, expected=278.735000\n",
      "predicted=281.281137, expected=281.653000\n",
      "predicted=283.840423, expected=285.711000\n",
      "predicted=288.542242, expected=288.618000\n",
      "predicted=291.342786, expected=292.495000\n"
     ]
    }
   ],
   "source": [
    "for t in range(len(test)):\n",
    "    model = ARIMA(history, order=(5,1,0))\n",
    "    model_fit = model.fit()\n",
    "    output = model_fit.forecast()\n",
    "    yhat = output[0]\n",
    "    predictions.append(yhat)\n",
    "    obs = test[t]\n",
    "    history.append(obs)\n",
    "    print('Predicted=%f, Actual=%f' % (yhat, obs))\n"
   ]
  },
  {
   "cell_type": "markdown",
   "id": "85a0cc09",
   "metadata": {},
   "source": [
    "# Test RMSE"
   ]
  },
  {
   "cell_type": "code",
   "execution_count": 8,
   "id": "0e7d9374",
   "metadata": {},
   "outputs": [
    {
     "name": "stdout",
     "output_type": "stream",
     "text": [
      "Test RMSE: 0.763\n"
     ]
    }
   ],
   "source": [
    "rmse = sqrt(mean_squared_error(test, predictions))\n",
    "print('Test RMSE: %.3f' % rmse)"
   ]
  },
  {
   "cell_type": "markdown",
   "id": "73b63c00",
   "metadata": {},
   "source": [
    "# Plotting Actual and Predicted Results"
   ]
  },
  {
   "cell_type": "code",
   "execution_count": 16,
   "id": "e6b5618b",
   "metadata": {},
   "outputs": [
    {
     "data": {
      "image/png": "[encoded data removed]",
      "text/plain": [
       "<Figure size 432x288 with 1 Axes>"
      ]
     },
     "metadata": {
      "needs_background": "light"
     },
     "output_type": "display_data"
    }
   ],
   "source": [
    "pyplot.plot(test,color='green')\n",
    "pyplot.show()"
   ]
  },
  {
   "cell_type": "code",
   "execution_count": 15,
   "id": "a92ad2a3",
   "metadata": {},
   "outputs": [
    {
     "data": {
      "image/png": "[encoded data removed]",
      "text/plain": [
       "<Figure size 432x288 with 1 Axes>"
      ]
     },
     "metadata": {
      "needs_background": "light"
     },
     "output_type": "display_data"
    }
   ],
   "source": [
    "pyplot.plot(test,color='green')\n",
    "pyplot.plot(predictions, color='red')\n",
    "pyplot.show()"
   ]
  },
  {
   "cell_type": "code",
   "execution_count": null,
   "id": "84287a53",
   "metadata": {},
   "outputs": [],
   "source": []
  }
 ],
 "metadata": {
  "kernelspec": {
   "display_name": "Python 3",
   "language": "python",
   "name": "python3"
  },
  "language_info": {
   "codemirror_mode": {
    "name": "ipython",
    "version": 3
   },
   "file_extension": ".py",
   "mimetype": "text/x-python",
   "name": "python",
   "nbconvert_exporter": "python",
   "pygments_lexer": "ipython3",
   "version": "3.6.8"
  }
 },
 "nbformat": 4,
 "nbformat_minor": 5
}
